{
 "cells": [
  {
   "cell_type": "code",
   "execution_count": 1,
   "id": "0304fd2c",
   "metadata": {
    "_cell_guid": "5c4af762-a3fe-4437-9fff-d4852f03b724",
    "_uuid": "1b8a4c5a-d591-4836-b631-fede2010ae83",
    "collapsed": false,
    "execution": {
     "iopub.execute_input": "2023-01-19T16:06:27.545424Z",
     "iopub.status.busy": "2023-01-19T16:06:27.544880Z",
     "iopub.status.idle": "2023-01-19T16:06:27.555206Z",
     "shell.execute_reply": "2023-01-19T16:06:27.554283Z"
    },
    "jupyter": {
     "outputs_hidden": false
    },
    "papermill": {
     "duration": 0.019274,
     "end_time": "2023-01-19T16:06:27.557746",
     "exception": false,
     "start_time": "2023-01-19T16:06:27.538472",
     "status": "completed"
    },
    "tags": []
   },
   "outputs": [],
   "source": [
    "import pandas as pd\n",
    "import matplotlib.pyplot as plt"
   ]
  },
  {
   "cell_type": "code",
   "execution_count": 2,
   "id": "e7d60621",
   "metadata": {
    "execution": {
     "iopub.execute_input": "2023-01-19T16:06:27.566924Z",
     "iopub.status.busy": "2023-01-19T16:06:27.565883Z",
     "iopub.status.idle": "2023-01-19T16:06:27.573600Z",
     "shell.execute_reply": "2023-01-19T16:06:27.572436Z"
    },
    "papermill": {
     "duration": 0.015275,
     "end_time": "2023-01-19T16:06:27.576583",
     "exception": false,
     "start_time": "2023-01-19T16:06:27.561308",
     "status": "completed"
    },
    "tags": []
   },
   "outputs": [],
   "source": [
    "import os\n",
    "os.chdir(\"/kaggle/input/student-scores/\") "
   ]
  },
  {
   "cell_type": "code",
   "execution_count": 3,
   "id": "ff3159f5",
   "metadata": {
    "execution": {
     "iopub.execute_input": "2023-01-19T16:06:27.585123Z",
     "iopub.status.busy": "2023-01-19T16:06:27.584656Z",
     "iopub.status.idle": "2023-01-19T16:06:27.606316Z",
     "shell.execute_reply": "2023-01-19T16:06:27.605046Z"
    },
    "papermill": {
     "duration": 0.029012,
     "end_time": "2023-01-19T16:06:27.609007",
     "exception": false,
     "start_time": "2023-01-19T16:06:27.579995",
     "status": "completed"
    },
    "tags": []
   },
   "outputs": [],
   "source": [
    "data = pd.read_csv('student_scores.csv')"
   ]
  },
  {
   "cell_type": "code",
   "execution_count": 4,
   "id": "fa981f2a",
   "metadata": {
    "execution": {
     "iopub.execute_input": "2023-01-19T16:06:27.617893Z",
     "iopub.status.busy": "2023-01-19T16:06:27.617450Z",
     "iopub.status.idle": "2023-01-19T16:06:27.640597Z",
     "shell.execute_reply": "2023-01-19T16:06:27.639407Z"
    },
    "papermill": {
     "duration": 0.031362,
     "end_time": "2023-01-19T16:06:27.643827",
     "exception": false,
     "start_time": "2023-01-19T16:06:27.612465",
     "status": "completed"
    },
    "tags": []
   },
   "outputs": [
    {
     "data": {
      "text/html": [
       "<div>\n",
       "<style scoped>\n",
       "    .dataframe tbody tr th:only-of-type {\n",
       "        vertical-align: middle;\n",
       "    }\n",
       "\n",
       "    .dataframe tbody tr th {\n",
       "        vertical-align: top;\n",
       "    }\n",
       "\n",
       "    .dataframe thead th {\n",
       "        text-align: right;\n",
       "    }\n",
       "</style>\n",
       "<table border=\"1\" class=\"dataframe\">\n",
       "  <thead>\n",
       "    <tr style=\"text-align: right;\">\n",
       "      <th></th>\n",
       "      <th>Hours</th>\n",
       "      <th>Scores</th>\n",
       "    </tr>\n",
       "  </thead>\n",
       "  <tbody>\n",
       "    <tr>\n",
       "      <th>0</th>\n",
       "      <td>2.5</td>\n",
       "      <td>21</td>\n",
       "    </tr>\n",
       "    <tr>\n",
       "      <th>1</th>\n",
       "      <td>5.1</td>\n",
       "      <td>47</td>\n",
       "    </tr>\n",
       "    <tr>\n",
       "      <th>2</th>\n",
       "      <td>3.2</td>\n",
       "      <td>27</td>\n",
       "    </tr>\n",
       "    <tr>\n",
       "      <th>3</th>\n",
       "      <td>8.5</td>\n",
       "      <td>75</td>\n",
       "    </tr>\n",
       "    <tr>\n",
       "      <th>4</th>\n",
       "      <td>3.5</td>\n",
       "      <td>30</td>\n",
       "    </tr>\n",
       "    <tr>\n",
       "      <th>5</th>\n",
       "      <td>1.5</td>\n",
       "      <td>20</td>\n",
       "    </tr>\n",
       "    <tr>\n",
       "      <th>6</th>\n",
       "      <td>9.2</td>\n",
       "      <td>88</td>\n",
       "    </tr>\n",
       "    <tr>\n",
       "      <th>7</th>\n",
       "      <td>5.5</td>\n",
       "      <td>60</td>\n",
       "    </tr>\n",
       "    <tr>\n",
       "      <th>8</th>\n",
       "      <td>8.3</td>\n",
       "      <td>81</td>\n",
       "    </tr>\n",
       "    <tr>\n",
       "      <th>9</th>\n",
       "      <td>2.7</td>\n",
       "      <td>25</td>\n",
       "    </tr>\n",
       "    <tr>\n",
       "      <th>10</th>\n",
       "      <td>7.7</td>\n",
       "      <td>85</td>\n",
       "    </tr>\n",
       "    <tr>\n",
       "      <th>11</th>\n",
       "      <td>5.9</td>\n",
       "      <td>62</td>\n",
       "    </tr>\n",
       "    <tr>\n",
       "      <th>12</th>\n",
       "      <td>4.5</td>\n",
       "      <td>41</td>\n",
       "    </tr>\n",
       "    <tr>\n",
       "      <th>13</th>\n",
       "      <td>3.3</td>\n",
       "      <td>42</td>\n",
       "    </tr>\n",
       "    <tr>\n",
       "      <th>14</th>\n",
       "      <td>1.1</td>\n",
       "      <td>17</td>\n",
       "    </tr>\n",
       "    <tr>\n",
       "      <th>15</th>\n",
       "      <td>8.9</td>\n",
       "      <td>95</td>\n",
       "    </tr>\n",
       "    <tr>\n",
       "      <th>16</th>\n",
       "      <td>2.5</td>\n",
       "      <td>30</td>\n",
       "    </tr>\n",
       "    <tr>\n",
       "      <th>17</th>\n",
       "      <td>1.9</td>\n",
       "      <td>24</td>\n",
       "    </tr>\n",
       "    <tr>\n",
       "      <th>18</th>\n",
       "      <td>6.1</td>\n",
       "      <td>67</td>\n",
       "    </tr>\n",
       "    <tr>\n",
       "      <th>19</th>\n",
       "      <td>7.4</td>\n",
       "      <td>69</td>\n",
       "    </tr>\n",
       "    <tr>\n",
       "      <th>20</th>\n",
       "      <td>2.7</td>\n",
       "      <td>30</td>\n",
       "    </tr>\n",
       "    <tr>\n",
       "      <th>21</th>\n",
       "      <td>4.8</td>\n",
       "      <td>54</td>\n",
       "    </tr>\n",
       "    <tr>\n",
       "      <th>22</th>\n",
       "      <td>3.8</td>\n",
       "      <td>35</td>\n",
       "    </tr>\n",
       "    <tr>\n",
       "      <th>23</th>\n",
       "      <td>6.9</td>\n",
       "      <td>76</td>\n",
       "    </tr>\n",
       "    <tr>\n",
       "      <th>24</th>\n",
       "      <td>7.8</td>\n",
       "      <td>86</td>\n",
       "    </tr>\n",
       "  </tbody>\n",
       "</table>\n",
       "</div>"
      ],
      "text/plain": [
       "    Hours  Scores\n",
       "0     2.5      21\n",
       "1     5.1      47\n",
       "2     3.2      27\n",
       "3     8.5      75\n",
       "4     3.5      30\n",
       "5     1.5      20\n",
       "6     9.2      88\n",
       "7     5.5      60\n",
       "8     8.3      81\n",
       "9     2.7      25\n",
       "10    7.7      85\n",
       "11    5.9      62\n",
       "12    4.5      41\n",
       "13    3.3      42\n",
       "14    1.1      17\n",
       "15    8.9      95\n",
       "16    2.5      30\n",
       "17    1.9      24\n",
       "18    6.1      67\n",
       "19    7.4      69\n",
       "20    2.7      30\n",
       "21    4.8      54\n",
       "22    3.8      35\n",
       "23    6.9      76\n",
       "24    7.8      86"
      ]
     },
     "execution_count": 4,
     "metadata": {},
     "output_type": "execute_result"
    }
   ],
   "source": [
    "data"
   ]
  },
  {
   "cell_type": "code",
   "execution_count": 5,
   "id": "0b76d77f",
   "metadata": {
    "execution": {
     "iopub.execute_input": "2023-01-19T16:06:27.654113Z",
     "iopub.status.busy": "2023-01-19T16:06:27.653159Z",
     "iopub.status.idle": "2023-01-19T16:06:27.873493Z",
     "shell.execute_reply": "2023-01-19T16:06:27.872257Z"
    },
    "papermill": {
     "duration": 0.228086,
     "end_time": "2023-01-19T16:06:27.875889",
     "exception": false,
     "start_time": "2023-01-19T16:06:27.647803",
     "status": "completed"
    },
    "tags": []
   },
   "outputs": [
    {
     "data": {
      "image/png": "[encoded data removed]",
      "text/plain": [
       "<Figure size 432x288 with 1 Axes>"
      ]
     },
     "metadata": {
      "needs_background": "light"
     },
     "output_type": "display_data"
    }
   ],
   "source": [
    "plt.scatter(data.Hours,data.Scores)\n",
    "plt.xlabel('Hours Studied')\n",
    "plt.ylabel('Exam Scores')\n",
    "plt.show()"
   ]
  },
  {
   "cell_type": "markdown",
   "id": "171162d8",
   "metadata": {
    "papermill": {
     "duration": 0.003505,
     "end_time": "2023-01-19T16:06:27.883277",
     "exception": false,
     "start_time": "2023-01-19T16:06:27.879772",
     "status": "completed"
    },
    "tags": []
   },
   "source": [
    "Linear Regression"
   ]
  },
  {
   "cell_type": "code",
   "execution_count": 6,
   "id": "d3551f0e",
   "metadata": {
    "execution": {
     "iopub.execute_input": "2023-01-19T16:06:27.893645Z",
     "iopub.status.busy": "2023-01-19T16:06:27.893197Z",
     "iopub.status.idle": "2023-01-19T16:06:27.902114Z",
     "shell.execute_reply": "2023-01-19T16:06:27.900892Z"
    },
    "papermill": {
     "duration": 0.017606,
     "end_time": "2023-01-19T16:06:27.904705",
     "exception": false,
     "start_time": "2023-01-19T16:06:27.887099",
     "status": "completed"
    },
    "tags": []
   },
   "outputs": [],
   "source": [
    "##loss function\n",
    "def lossFunc(m,b,points):\n",
    "  total_error = 0\n",
    "  for i in range(len(points)):\n",
    "    x = points.iloc[i].Hours\n",
    "    y = points.iloc[i].Scores\n",
    "    total_error+= (y-(m*x + b ))**2\n",
    "    total_error/float(len(points))\n",
    "\n",
    "\n",
    "# Gradient Descent function implementation\n",
    "def gradient_d(m_now,b_now,points,l):\n",
    "  m_gradient = b_gradient = 0\n",
    "  n = len(points)\n",
    "  for i in range(n):\n",
    "      x = points.iloc[i].Hours\n",
    "      y = points.iloc[i].Scores\n",
    "      m_gradient += -(2/n) * x * (y-(m_now * x + b_now))\n",
    "      b_gradient += -(2/n) * (y-(m_now * x + b_now))\n",
    "      m = m_now-m_gradient * l\n",
    "      b = b_now-b_gradient * l\n",
    "  return m, b"
   ]
  },
  {
   "cell_type": "markdown",
   "id": "0c3bf383",
   "metadata": {
    "papermill": {
     "duration": 0.00355,
     "end_time": "2023-01-19T16:06:27.912180",
     "exception": false,
     "start_time": "2023-01-19T16:06:27.908630",
     "status": "completed"
    },
    "tags": []
   },
   "source": [
    "Linear Regression"
   ]
  },
  {
   "cell_type": "code",
   "execution_count": 7,
   "id": "f46782ce",
   "metadata": {
    "execution": {
     "iopub.execute_input": "2023-01-19T16:06:27.921626Z",
     "iopub.status.busy": "2023-01-19T16:06:27.921181Z",
     "iopub.status.idle": "2023-01-19T16:06:34.197791Z",
     "shell.execute_reply": "2023-01-19T16:06:34.196204Z"
    },
    "papermill": {
     "duration": 6.28442,
     "end_time": "2023-01-19T16:06:34.200311",
     "exception": false,
     "start_time": "2023-01-19T16:06:27.915891",
     "status": "completed"
    },
    "tags": []
   },
   "outputs": [
    {
     "name": "stdout",
     "output_type": "stream",
     "text": [
      "value of M (Gradient):  9.896964110671043 value of b (y-intercept): 1.6314708810783125\n"
     ]
    },
    {
     "data": {
      "image/png": "[encoded data removed]",
      "text/plain": [
       "<Figure size 432x288 with 1 Axes>"
      ]
     },
     "metadata": {
      "needs_background": "light"
     },
     "output_type": "display_data"
    }
   ],
   "source": [
    "m = 0\n",
    "b = 0\n",
    "L = 0.0001\n",
    "epochs = 1000\n",
    "for i in range (epochs):\n",
    "    m, b = gradient_d (m, b, data, L)\n",
    "print(\"value of M (Gradient): \",m,\"value of b (y-intercept):\", b)\n",
    "plt.scatter (data.Hours, data.Scores, color=\"black\")\n",
    "plt.plot(list (range (0, 10)), [m*x + b for x in range (0, 10)], color=\"red\")\n",
    "plt.show()"
   ]
  },
  {
   "cell_type": "code",
   "execution_count": null,
   "id": "26781c77",
   "metadata": {
    "papermill": {
     "duration": 0.003828,
     "end_time": "2023-01-19T16:06:34.208290",
     "exception": false,
     "start_time": "2023-01-19T16:06:34.204462",
     "status": "completed"
    },
    "tags": []
   },
   "outputs": [],
   "source": []
  }
 ],
 "metadata": {
  "kernelspec": {
   "display_name": "Python 3",
   "language": "python",
   "name": "python3"
  },
  "language_info": {
   "codemirror_mode": {
    "name": "ipython",
    "version": 3
   },
   "file_extension": ".py",
   "mimetype": "text/x-python",
   "name": "python",
   "nbconvert_exporter": "python",
   "pygments_lexer": "ipython3",
   "version": "3.7.12"
  },
  "papermill": {
   "default_parameters": {},
   "duration": 17.200825,
   "end_time": "2023-01-19T16:06:35.034492",
   "environment_variables": {},
   "exception": null,
   "input_path": "__notebook__.ipynb",
   "output_path": "__notebook__.ipynb",
   "parameters": {},
   "start_time": "2023-01-19T16:06:17.833667",
   "version": "2.3.4"
  }
 },
 "nbformat": 4,
 "nbformat_minor": 5
}
